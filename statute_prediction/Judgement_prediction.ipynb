{
  "nbformat": 4,
  "nbformat_minor": 0,
  "metadata": {
    "colab": {
      "provenance": [],
      "gpuType": "T4"
    },
    "kernelspec": {
      "name": "python3",
      "display_name": "Python 3"
    },
    "language_info": {
      "name": "python"
    },
    "accelerator": "GPU",
    "widgets": {
      "application/vnd.jupyter.widget-state+json": {
        "85d66dcaa49640adb5464f25fbdb217a": {
          "model_module": "@jupyter-widgets/controls",
          "model_name": "HBoxModel",
          "model_module_version": "1.5.0",
          "state": {
            "_dom_classes": [],
            "_model_module": "@jupyter-widgets/controls",
            "_model_module_version": "1.5.0",
            "_model_name": "HBoxModel",
            "_view_count": null,
            "_view_module": "@jupyter-widgets/controls",
            "_view_module_version": "1.5.0",
            "_view_name": "HBoxView",
            "box_style": "",
            "children": [
              "IPY_MODEL_6d9d88bf078c41f4beaae59ae4226734",
              "IPY_MODEL_03070dbd5d9542a4aa62e207b027b099",
              "IPY_MODEL_e9888fab85f94681a28d5321b134ebfa"
            ],
            "layout": "IPY_MODEL_052444661d6241de9b367960a2654493"
          }
        },
        "6d9d88bf078c41f4beaae59ae4226734": {
          "model_module": "@jupyter-widgets/controls",
          "model_name": "HTMLModel",
          "model_module_version": "1.5.0",
          "state": {
            "_dom_classes": [],
            "_model_module": "@jupyter-widgets/controls",
            "_model_module_version": "1.5.0",
            "_model_name": "HTMLModel",
            "_view_count": null,
            "_view_module": "@jupyter-widgets/controls",
            "_view_module_version": "1.5.0",
            "_view_name": "HTMLView",
            "description": "",
            "description_tooltip": null,
            "layout": "IPY_MODEL_4255da902430493bbba68402590a5c87",
            "placeholder": "​",
            "style": "IPY_MODEL_a00dd47c55e9417393b920f219c82749",
            "value": "Downloading (…)okenizer_config.json: 100%"
          }
        },
        "03070dbd5d9542a4aa62e207b027b099": {
          "model_module": "@jupyter-widgets/controls",
          "model_name": "FloatProgressModel",
          "model_module_version": "1.5.0",
          "state": {
            "_dom_classes": [],
            "_model_module": "@jupyter-widgets/controls",
            "_model_module_version": "1.5.0",
            "_model_name": "FloatProgressModel",
            "_view_count": null,
            "_view_module": "@jupyter-widgets/controls",
            "_view_module_version": "1.5.0",
            "_view_name": "ProgressView",
            "bar_style": "success",
            "description": "",
            "description_tooltip": null,
            "layout": "IPY_MODEL_c02ec9819555495d84b34559a2941977",
            "max": 48,
            "min": 0,
            "orientation": "horizontal",
            "style": "IPY_MODEL_b92af0c017a143c0b8c08306ad1ecd98",
            "value": 48
          }
        },
        "e9888fab85f94681a28d5321b134ebfa": {
          "model_module": "@jupyter-widgets/controls",
          "model_name": "HTMLModel",
          "model_module_version": "1.5.0",
          "state": {
            "_dom_classes": [],
            "_model_module": "@jupyter-widgets/controls",
            "_model_module_version": "1.5.0",
            "_model_name": "HTMLModel",
            "_view_count": null,
            "_view_module": "@jupyter-widgets/controls",
            "_view_module_version": "1.5.0",
            "_view_name": "HTMLView",
            "description": "",
            "description_tooltip": null,
            "layout": "IPY_MODEL_fcc4b9e6149a4eca99e382cffc7f70e9",
            "placeholder": "​",
            "style": "IPY_MODEL_15d01c984f574a949b667a91d7f97525",
            "value": " 48.0/48.0 [00:00&lt;00:00, 2.24kB/s]"
          }
        },
        "052444661d6241de9b367960a2654493": {
          "model_module": "@jupyter-widgets/base",
          "model_name": "LayoutModel",
          "model_module_version": "1.2.0",
          "state": {
            "_model_module": "@jupyter-widgets/base",
            "_model_module_version": "1.2.0",
            "_model_name": "LayoutModel",
            "_view_count": null,
            "_view_module": "@jupyter-widgets/base",
            "_view_module_version": "1.2.0",
            "_view_name": "LayoutView",
            "align_content": null,
            "align_items": null,
            "align_self": null,
            "border": null,
            "bottom": null,
            "display": null,
            "flex": null,
            "flex_flow": null,
            "grid_area": null,
            "grid_auto_columns": null,
            "grid_auto_flow": null,
            "grid_auto_rows": null,
            "grid_column": null,
            "grid_gap": null,
            "grid_row": null,
            "grid_template_areas": null,
            "grid_template_columns": null,
            "grid_template_rows": null,
            "height": null,
            "justify_content": null,
            "justify_items": null,
            "left": null,
            "margin": null,
            "max_height": null,
            "max_width": null,
            "min_height": null,
            "min_width": null,
            "object_fit": null,
            "object_position": null,
            "order": null,
            "overflow": null,
            "overflow_x": null,
            "overflow_y": null,
            "padding": null,
            "right": null,
            "top": null,
            "visibility": null,
            "width": null
          }
        },
        "4255da902430493bbba68402590a5c87": {
          "model_module": "@jupyter-widgets/base",
          "model_name": "LayoutModel",
          "model_module_version": "1.2.0",
          "state": {
            "_model_module": "@jupyter-widgets/base",
            "_model_module_version": "1.2.0",
            "_model_name": "LayoutModel",
            "_view_count": null,
            "_view_module": "@jupyter-widgets/base",
            "_view_module_version": "1.2.0",
            "_view_name": "LayoutView",
            "align_content": null,
            "align_items": null,
            "align_self": null,
            "border": null,
            "bottom": null,
            "display": null,
            "flex": null,
            "flex_flow": null,
            "grid_area": null,
            "grid_auto_columns": null,
            "grid_auto_flow": null,
            "grid_auto_rows": null,
            "grid_column": null,
            "grid_gap": null,
            "grid_row": null,
            "grid_template_areas": null,
            "grid_template_columns": null,
            "grid_template_rows": null,
            "height": null,
            "justify_content": null,
            "justify_items": null,
            "left": null,
            "margin": null,
            "max_height": null,
            "max_width": null,
            "min_height": null,
            "min_width": null,
            "object_fit": null,
            "object_position": null,
            "order": null,
            "overflow": null,
            "overflow_x": null,
            "overflow_y": null,
            "padding": null,
            "right": null,
            "top": null,
            "visibility": null,
            "width": null
          }
        },
        "a00dd47c55e9417393b920f219c82749": {
          "model_module": "@jupyter-widgets/controls",
          "model_name": "DescriptionStyleModel",
          "model_module_version": "1.5.0",
          "state": {
            "_model_module": "@jupyter-widgets/controls",
            "_model_module_version": "1.5.0",
            "_model_name": "DescriptionStyleModel",
            "_view_count": null,
            "_view_module": "@jupyter-widgets/base",
            "_view_module_version": "1.2.0",
            "_view_name": "StyleView",
            "description_width": ""
          }
        },
        "c02ec9819555495d84b34559a2941977": {
          "model_module": "@jupyter-widgets/base",
          "model_name": "LayoutModel",
          "model_module_version": "1.2.0",
          "state": {
            "_model_module": "@jupyter-widgets/base",
            "_model_module_version": "1.2.0",
            "_model_name": "LayoutModel",
            "_view_count": null,
            "_view_module": "@jupyter-widgets/base",
            "_view_module_version": "1.2.0",
            "_view_name": "LayoutView",
            "align_content": null,
            "align_items": null,
            "align_self": null,
            "border": null,
            "bottom": null,
            "display": null,
            "flex": null,
            "flex_flow": null,
            "grid_area": null,
            "grid_auto_columns": null,
            "grid_auto_flow": null,
            "grid_auto_rows": null,
            "grid_column": null,
            "grid_gap": null,
            "grid_row": null,
            "grid_template_areas": null,
            "grid_template_columns": null,
            "grid_template_rows": null,
            "height": null,
            "justify_content": null,
            "justify_items": null,
            "left": null,
            "margin": null,
            "max_height": null,
            "max_width": null,
            "min_height": null,
            "min_width": null,
            "object_fit": null,
            "object_position": null,
            "order": null,
            "overflow": null,
            "overflow_x": null,
            "overflow_y": null,
            "padding": null,
            "right": null,
            "top": null,
            "visibility": null,
            "width": null
          }
        },
        "b92af0c017a143c0b8c08306ad1ecd98": {
          "model_module": "@jupyter-widgets/controls",
          "model_name": "ProgressStyleModel",
          "model_module_version": "1.5.0",
          "state": {
            "_model_module": "@jupyter-widgets/controls",
            "_model_module_version": "1.5.0",
            "_model_name": "ProgressStyleModel",
            "_view_count": null,
            "_view_module": "@jupyter-widgets/base",
            "_view_module_version": "1.2.0",
            "_view_name": "StyleView",
            "bar_color": null,
            "description_width": ""
          }
        },
        "fcc4b9e6149a4eca99e382cffc7f70e9": {
          "model_module": "@jupyter-widgets/base",
          "model_name": "LayoutModel",
          "model_module_version": "1.2.0",
          "state": {
            "_model_module": "@jupyter-widgets/base",
            "_model_module_version": "1.2.0",
            "_model_name": "LayoutModel",
            "_view_count": null,
            "_view_module": "@jupyter-widgets/base",
            "_view_module_version": "1.2.0",
            "_view_name": "LayoutView",
            "align_content": null,
            "align_items": null,
            "align_self": null,
            "border": null,
            "bottom": null,
            "display": null,
            "flex": null,
            "flex_flow": null,
            "grid_area": null,
            "grid_auto_columns": null,
            "grid_auto_flow": null,
            "grid_auto_rows": null,
            "grid_column": null,
            "grid_gap": null,
            "grid_row": null,
            "grid_template_areas": null,
            "grid_template_columns": null,
            "grid_template_rows": null,
            "height": null,
            "justify_content": null,
            "justify_items": null,
            "left": null,
            "margin": null,
            "max_height": null,
            "max_width": null,
            "min_height": null,
            "min_width": null,
            "object_fit": null,
            "object_position": null,
            "order": null,
            "overflow": null,
            "overflow_x": null,
            "overflow_y": null,
            "padding": null,
            "right": null,
            "top": null,
            "visibility": null,
            "width": null
          }
        },
        "15d01c984f574a949b667a91d7f97525": {
          "model_module": "@jupyter-widgets/controls",
          "model_name": "DescriptionStyleModel",
          "model_module_version": "1.5.0",
          "state": {
            "_model_module": "@jupyter-widgets/controls",
            "_model_module_version": "1.5.0",
            "_model_name": "DescriptionStyleModel",
            "_view_count": null,
            "_view_module": "@jupyter-widgets/base",
            "_view_module_version": "1.2.0",
            "_view_name": "StyleView",
            "description_width": ""
          }
        },
        "cf7fec5b2c2041c2a0b1eb7ba0c178ab": {
          "model_module": "@jupyter-widgets/controls",
          "model_name": "HBoxModel",
          "model_module_version": "1.5.0",
          "state": {
            "_dom_classes": [],
            "_model_module": "@jupyter-widgets/controls",
            "_model_module_version": "1.5.0",
            "_model_name": "HBoxModel",
            "_view_count": null,
            "_view_module": "@jupyter-widgets/controls",
            "_view_module_version": "1.5.0",
            "_view_name": "HBoxView",
            "box_style": "",
            "children": [
              "IPY_MODEL_6f53dd894d9d4819a6962a536a7b45c8",
              "IPY_MODEL_b703ddd841dd4ccf95cfd86400d32cc8",
              "IPY_MODEL_835c0f21006841f89b011928d21effc9"
            ],
            "layout": "IPY_MODEL_27665fa76fd84bdf8f5e08bf09f154d0"
          }
        },
        "6f53dd894d9d4819a6962a536a7b45c8": {
          "model_module": "@jupyter-widgets/controls",
          "model_name": "HTMLModel",
          "model_module_version": "1.5.0",
          "state": {
            "_dom_classes": [],
            "_model_module": "@jupyter-widgets/controls",
            "_model_module_version": "1.5.0",
            "_model_name": "HTMLModel",
            "_view_count": null,
            "_view_module": "@jupyter-widgets/controls",
            "_view_module_version": "1.5.0",
            "_view_name": "HTMLView",
            "description": "",
            "description_tooltip": null,
            "layout": "IPY_MODEL_1b3604abe1894f9bb0e3d7387babdea9",
            "placeholder": "​",
            "style": "IPY_MODEL_3dcedac21c4b4f22a4bfd8381589c6ce",
            "value": "Downloading (…)lve/main/config.json: "
          }
        },
        "b703ddd841dd4ccf95cfd86400d32cc8": {
          "model_module": "@jupyter-widgets/controls",
          "model_name": "FloatProgressModel",
          "model_module_version": "1.5.0",
          "state": {
            "_dom_classes": [],
            "_model_module": "@jupyter-widgets/controls",
            "_model_module_version": "1.5.0",
            "_model_name": "FloatProgressModel",
            "_view_count": null,
            "_view_module": "@jupyter-widgets/controls",
            "_view_module_version": "1.5.0",
            "_view_name": "ProgressView",
            "bar_style": "success",
            "description": "",
            "description_tooltip": null,
            "layout": "IPY_MODEL_641aba3af0da401884952d905afb6ad8",
            "max": 1,
            "min": 0,
            "orientation": "horizontal",
            "style": "IPY_MODEL_cfe25d6a41e8486a9671aad5606267de",
            "value": 1
          }
        },
        "835c0f21006841f89b011928d21effc9": {
          "model_module": "@jupyter-widgets/controls",
          "model_name": "HTMLModel",
          "model_module_version": "1.5.0",
          "state": {
            "_dom_classes": [],
            "_model_module": "@jupyter-widgets/controls",
            "_model_module_version": "1.5.0",
            "_model_name": "HTMLModel",
            "_view_count": null,
            "_view_module": "@jupyter-widgets/controls",
            "_view_module_version": "1.5.0",
            "_view_name": "HTMLView",
            "description": "",
            "description_tooltip": null,
            "layout": "IPY_MODEL_e3ebc96e630e437e81560e0379f3403a",
            "placeholder": "​",
            "style": "IPY_MODEL_1bae4dd3de29481488c9a76c267d056a",
            "value": " 1.02k/? [00:00&lt;00:00, 58.9kB/s]"
          }
        },
        "27665fa76fd84bdf8f5e08bf09f154d0": {
          "model_module": "@jupyter-widgets/base",
          "model_name": "LayoutModel",
          "model_module_version": "1.2.0",
          "state": {
            "_model_module": "@jupyter-widgets/base",
            "_model_module_version": "1.2.0",
            "_model_name": "LayoutModel",
            "_view_count": null,
            "_view_module": "@jupyter-widgets/base",
            "_view_module_version": "1.2.0",
            "_view_name": "LayoutView",
            "align_content": null,
            "align_items": null,
            "align_self": null,
            "border": null,
            "bottom": null,
            "display": null,
            "flex": null,
            "flex_flow": null,
            "grid_area": null,
            "grid_auto_columns": null,
            "grid_auto_flow": null,
            "grid_auto_rows": null,
            "grid_column": null,
            "grid_gap": null,
            "grid_row": null,
            "grid_template_areas": null,
            "grid_template_columns": null,
            "grid_template_rows": null,
            "height": null,
            "justify_content": null,
            "justify_items": null,
            "left": null,
            "margin": null,
            "max_height": null,
            "max_width": null,
            "min_height": null,
            "min_width": null,
            "object_fit": null,
            "object_position": null,
            "order": null,
            "overflow": null,
            "overflow_x": null,
            "overflow_y": null,
            "padding": null,
            "right": null,
            "top": null,
            "visibility": null,
            "width": null
          }
        },
        "1b3604abe1894f9bb0e3d7387babdea9": {
          "model_module": "@jupyter-widgets/base",
          "model_name": "LayoutModel",
          "model_module_version": "1.2.0",
          "state": {
            "_model_module": "@jupyter-widgets/base",
            "_model_module_version": "1.2.0",
            "_model_name": "LayoutModel",
            "_view_count": null,
            "_view_module": "@jupyter-widgets/base",
            "_view_module_version": "1.2.0",
            "_view_name": "LayoutView",
            "align_content": null,
            "align_items": null,
            "align_self": null,
            "border": null,
            "bottom": null,
            "display": null,
            "flex": null,
            "flex_flow": null,
            "grid_area": null,
            "grid_auto_columns": null,
            "grid_auto_flow": null,
            "grid_auto_rows": null,
            "grid_column": null,
            "grid_gap": null,
            "grid_row": null,
            "grid_template_areas": null,
            "grid_template_columns": null,
            "grid_template_rows": null,
            "height": null,
            "justify_content": null,
            "justify_items": null,
            "left": null,
            "margin": null,
            "max_height": null,
            "max_width": null,
            "min_height": null,
            "min_width": null,
            "object_fit": null,
            "object_position": null,
            "order": null,
            "overflow": null,
            "overflow_x": null,
            "overflow_y": null,
            "padding": null,
            "right": null,
            "top": null,
            "visibility": null,
            "width": null
          }
        },
        "3dcedac21c4b4f22a4bfd8381589c6ce": {
          "model_module": "@jupyter-widgets/controls",
          "model_name": "DescriptionStyleModel",
          "model_module_version": "1.5.0",
          "state": {
            "_model_module": "@jupyter-widgets/controls",
            "_model_module_version": "1.5.0",
            "_model_name": "DescriptionStyleModel",
            "_view_count": null,
            "_view_module": "@jupyter-widgets/base",
            "_view_module_version": "1.2.0",
            "_view_name": "StyleView",
            "description_width": ""
          }
        },
        "641aba3af0da401884952d905afb6ad8": {
          "model_module": "@jupyter-widgets/base",
          "model_name": "LayoutModel",
          "model_module_version": "1.2.0",
          "state": {
            "_model_module": "@jupyter-widgets/base",
            "_model_module_version": "1.2.0",
            "_model_name": "LayoutModel",
            "_view_count": null,
            "_view_module": "@jupyter-widgets/base",
            "_view_module_version": "1.2.0",
            "_view_name": "LayoutView",
            "align_content": null,
            "align_items": null,
            "align_self": null,
            "border": null,
            "bottom": null,
            "display": null,
            "flex": null,
            "flex_flow": null,
            "grid_area": null,
            "grid_auto_columns": null,
            "grid_auto_flow": null,
            "grid_auto_rows": null,
            "grid_column": null,
            "grid_gap": null,
            "grid_row": null,
            "grid_template_areas": null,
            "grid_template_columns": null,
            "grid_template_rows": null,
            "height": null,
            "justify_content": null,
            "justify_items": null,
            "left": null,
            "margin": null,
            "max_height": null,
            "max_width": null,
            "min_height": null,
            "min_width": null,
            "object_fit": null,
            "object_position": null,
            "order": null,
            "overflow": null,
            "overflow_x": null,
            "overflow_y": null,
            "padding": null,
            "right": null,
            "top": null,
            "visibility": null,
            "width": "20px"
          }
        },
        "cfe25d6a41e8486a9671aad5606267de": {
          "model_module": "@jupyter-widgets/controls",
          "model_name": "ProgressStyleModel",
          "model_module_version": "1.5.0",
          "state": {
            "_model_module": "@jupyter-widgets/controls",
            "_model_module_version": "1.5.0",
            "_model_name": "ProgressStyleModel",
            "_view_count": null,
            "_view_module": "@jupyter-widgets/base",
            "_view_module_version": "1.2.0",
            "_view_name": "StyleView",
            "bar_color": null,
            "description_width": ""
          }
        },
        "e3ebc96e630e437e81560e0379f3403a": {
          "model_module": "@jupyter-widgets/base",
          "model_name": "LayoutModel",
          "model_module_version": "1.2.0",
          "state": {
            "_model_module": "@jupyter-widgets/base",
            "_model_module_version": "1.2.0",
            "_model_name": "LayoutModel",
            "_view_count": null,
            "_view_module": "@jupyter-widgets/base",
            "_view_module_version": "1.2.0",
            "_view_name": "LayoutView",
            "align_content": null,
            "align_items": null,
            "align_self": null,
            "border": null,
            "bottom": null,
            "display": null,
            "flex": null,
            "flex_flow": null,
            "grid_area": null,
            "grid_auto_columns": null,
            "grid_auto_flow": null,
            "grid_auto_rows": null,
            "grid_column": null,
            "grid_gap": null,
            "grid_row": null,
            "grid_template_areas": null,
            "grid_template_columns": null,
            "grid_template_rows": null,
            "height": null,
            "justify_content": null,
            "justify_items": null,
            "left": null,
            "margin": null,
            "max_height": null,
            "max_width": null,
            "min_height": null,
            "min_width": null,
            "object_fit": null,
            "object_position": null,
            "order": null,
            "overflow": null,
            "overflow_x": null,
            "overflow_y": null,
            "padding": null,
            "right": null,
            "top": null,
            "visibility": null,
            "width": null
          }
        },
        "1bae4dd3de29481488c9a76c267d056a": {
          "model_module": "@jupyter-widgets/controls",
          "model_name": "DescriptionStyleModel",
          "model_module_version": "1.5.0",
          "state": {
            "_model_module": "@jupyter-widgets/controls",
            "_model_module_version": "1.5.0",
            "_model_name": "DescriptionStyleModel",
            "_view_count": null,
            "_view_module": "@jupyter-widgets/base",
            "_view_module_version": "1.2.0",
            "_view_name": "StyleView",
            "description_width": ""
          }
        },
        "ba84dc461cab4fe4a840a6c90413cf93": {
          "model_module": "@jupyter-widgets/controls",
          "model_name": "HBoxModel",
          "model_module_version": "1.5.0",
          "state": {
            "_dom_classes": [],
            "_model_module": "@jupyter-widgets/controls",
            "_model_module_version": "1.5.0",
            "_model_name": "HBoxModel",
            "_view_count": null,
            "_view_module": "@jupyter-widgets/controls",
            "_view_module_version": "1.5.0",
            "_view_name": "HBoxView",
            "box_style": "",
            "children": [
              "IPY_MODEL_65d6a55038fb42979e2fac5a67030bca",
              "IPY_MODEL_fae49096bc7f42288feb1e143a42590e",
              "IPY_MODEL_ab0352c7f02c4238892e4cce7f3cc8cb"
            ],
            "layout": "IPY_MODEL_56569c3d341249fc9ae760471c365fd3"
          }
        },
        "65d6a55038fb42979e2fac5a67030bca": {
          "model_module": "@jupyter-widgets/controls",
          "model_name": "HTMLModel",
          "model_module_version": "1.5.0",
          "state": {
            "_dom_classes": [],
            "_model_module": "@jupyter-widgets/controls",
            "_model_module_version": "1.5.0",
            "_model_name": "HTMLModel",
            "_view_count": null,
            "_view_module": "@jupyter-widgets/controls",
            "_view_module_version": "1.5.0",
            "_view_name": "HTMLView",
            "description": "",
            "description_tooltip": null,
            "layout": "IPY_MODEL_323caafd449a45358b7da003eb19002c",
            "placeholder": "​",
            "style": "IPY_MODEL_3d3baecbf83045128c9b3fa788c21c5d",
            "value": "Downloading (…)solve/main/vocab.txt: "
          }
        },
        "fae49096bc7f42288feb1e143a42590e": {
          "model_module": "@jupyter-widgets/controls",
          "model_name": "FloatProgressModel",
          "model_module_version": "1.5.0",
          "state": {
            "_dom_classes": [],
            "_model_module": "@jupyter-widgets/controls",
            "_model_module_version": "1.5.0",
            "_model_name": "FloatProgressModel",
            "_view_count": null,
            "_view_module": "@jupyter-widgets/controls",
            "_view_module_version": "1.5.0",
            "_view_name": "ProgressView",
            "bar_style": "success",
            "description": "",
            "description_tooltip": null,
            "layout": "IPY_MODEL_7fe35d6edec64c948c6838aa4b01fc2b",
            "max": 1,
            "min": 0,
            "orientation": "horizontal",
            "style": "IPY_MODEL_0b85d47e22864c47b4f7dfea8cc0c5ef",
            "value": 1
          }
        },
        "ab0352c7f02c4238892e4cce7f3cc8cb": {
          "model_module": "@jupyter-widgets/controls",
          "model_name": "HTMLModel",
          "model_module_version": "1.5.0",
          "state": {
            "_dom_classes": [],
            "_model_module": "@jupyter-widgets/controls",
            "_model_module_version": "1.5.0",
            "_model_name": "HTMLModel",
            "_view_count": null,
            "_view_module": "@jupyter-widgets/controls",
            "_view_module_version": "1.5.0",
            "_view_name": "HTMLView",
            "description": "",
            "description_tooltip": null,
            "layout": "IPY_MODEL_f61fff6cd6af44649262e8ae76c1e91a",
            "placeholder": "​",
            "style": "IPY_MODEL_b69edb05ddb84c85b40cc14bc9964a1b",
            "value": " 222k/? [00:00&lt;00:00, 4.61MB/s]"
          }
        },
        "56569c3d341249fc9ae760471c365fd3": {
          "model_module": "@jupyter-widgets/base",
          "model_name": "LayoutModel",
          "model_module_version": "1.2.0",
          "state": {
            "_model_module": "@jupyter-widgets/base",
            "_model_module_version": "1.2.0",
            "_model_name": "LayoutModel",
            "_view_count": null,
            "_view_module": "@jupyter-widgets/base",
            "_view_module_version": "1.2.0",
            "_view_name": "LayoutView",
            "align_content": null,
            "align_items": null,
            "align_self": null,
            "border": null,
            "bottom": null,
            "display": null,
            "flex": null,
            "flex_flow": null,
            "grid_area": null,
            "grid_auto_columns": null,
            "grid_auto_flow": null,
            "grid_auto_rows": null,
            "grid_column": null,
            "grid_gap": null,
            "grid_row": null,
            "grid_template_areas": null,
            "grid_template_columns": null,
            "grid_template_rows": null,
            "height": null,
            "justify_content": null,
            "justify_items": null,
            "left": null,
            "margin": null,
            "max_height": null,
            "max_width": null,
            "min_height": null,
            "min_width": null,
            "object_fit": null,
            "object_position": null,
            "order": null,
            "overflow": null,
            "overflow_x": null,
            "overflow_y": null,
            "padding": null,
            "right": null,
            "top": null,
            "visibility": null,
            "width": null
          }
        },
        "323caafd449a45358b7da003eb19002c": {
          "model_module": "@jupyter-widgets/base",
          "model_name": "LayoutModel",
          "model_module_version": "1.2.0",
          "state": {
            "_model_module": "@jupyter-widgets/base",
            "_model_module_version": "1.2.0",
            "_model_name": "LayoutModel",
            "_view_count": null,
            "_view_module": "@jupyter-widgets/base",
            "_view_module_version": "1.2.0",
            "_view_name": "LayoutView",
            "align_content": null,
            "align_items": null,
            "align_self": null,
            "border": null,
            "bottom": null,
            "display": null,
            "flex": null,
            "flex_flow": null,
            "grid_area": null,
            "grid_auto_columns": null,
            "grid_auto_flow": null,
            "grid_auto_rows": null,
            "grid_column": null,
            "grid_gap": null,
            "grid_row": null,
            "grid_template_areas": null,
            "grid_template_columns": null,
            "grid_template_rows": null,
            "height": null,
            "justify_content": null,
            "justify_items": null,
            "left": null,
            "margin": null,
            "max_height": null,
            "max_width": null,
            "min_height": null,
            "min_width": null,
            "object_fit": null,
            "object_position": null,
            "order": null,
            "overflow": null,
            "overflow_x": null,
            "overflow_y": null,
            "padding": null,
            "right": null,
            "top": null,
            "visibility": null,
            "width": null
          }
        },
        "3d3baecbf83045128c9b3fa788c21c5d": {
          "model_module": "@jupyter-widgets/controls",
          "model_name": "DescriptionStyleModel",
          "model_module_version": "1.5.0",
          "state": {
            "_model_module": "@jupyter-widgets/controls",
            "_model_module_version": "1.5.0",
            "_model_name": "DescriptionStyleModel",
            "_view_count": null,
            "_view_module": "@jupyter-widgets/base",
            "_view_module_version": "1.2.0",
            "_view_name": "StyleView",
            "description_width": ""
          }
        },
        "7fe35d6edec64c948c6838aa4b01fc2b": {
          "model_module": "@jupyter-widgets/base",
          "model_name": "LayoutModel",
          "model_module_version": "1.2.0",
          "state": {
            "_model_module": "@jupyter-widgets/base",
            "_model_module_version": "1.2.0",
            "_model_name": "LayoutModel",
            "_view_count": null,
            "_view_module": "@jupyter-widgets/base",
            "_view_module_version": "1.2.0",
            "_view_name": "LayoutView",
            "align_content": null,
            "align_items": null,
            "align_self": null,
            "border": null,
            "bottom": null,
            "display": null,
            "flex": null,
            "flex_flow": null,
            "grid_area": null,
            "grid_auto_columns": null,
            "grid_auto_flow": null,
            "grid_auto_rows": null,
            "grid_column": null,
            "grid_gap": null,
            "grid_row": null,
            "grid_template_areas": null,
            "grid_template_columns": null,
            "grid_template_rows": null,
            "height": null,
            "justify_content": null,
            "justify_items": null,
            "left": null,
            "margin": null,
            "max_height": null,
            "max_width": null,
            "min_height": null,
            "min_width": null,
            "object_fit": null,
            "object_position": null,
            "order": null,
            "overflow": null,
            "overflow_x": null,
            "overflow_y": null,
            "padding": null,
            "right": null,
            "top": null,
            "visibility": null,
            "width": "20px"
          }
        },
        "0b85d47e22864c47b4f7dfea8cc0c5ef": {
          "model_module": "@jupyter-widgets/controls",
          "model_name": "ProgressStyleModel",
          "model_module_version": "1.5.0",
          "state": {
            "_model_module": "@jupyter-widgets/controls",
            "_model_module_version": "1.5.0",
            "_model_name": "ProgressStyleModel",
            "_view_count": null,
            "_view_module": "@jupyter-widgets/base",
            "_view_module_version": "1.2.0",
            "_view_name": "StyleView",
            "bar_color": null,
            "description_width": ""
          }
        },
        "f61fff6cd6af44649262e8ae76c1e91a": {
          "model_module": "@jupyter-widgets/base",
          "model_name": "LayoutModel",
          "model_module_version": "1.2.0",
          "state": {
            "_model_module": "@jupyter-widgets/base",
            "_model_module_version": "1.2.0",
            "_model_name": "LayoutModel",
            "_view_count": null,
            "_view_module": "@jupyter-widgets/base",
            "_view_module_version": "1.2.0",
            "_view_name": "LayoutView",
            "align_content": null,
            "align_items": null,
            "align_self": null,
            "border": null,
            "bottom": null,
            "display": null,
            "flex": null,
            "flex_flow": null,
            "grid_area": null,
            "grid_auto_columns": null,
            "grid_auto_flow": null,
            "grid_auto_rows": null,
            "grid_column": null,
            "grid_gap": null,
            "grid_row": null,
            "grid_template_areas": null,
            "grid_template_columns": null,
            "grid_template_rows": null,
            "height": null,
            "justify_content": null,
            "justify_items": null,
            "left": null,
            "margin": null,
            "max_height": null,
            "max_width": null,
            "min_height": null,
            "min_width": null,
            "object_fit": null,
            "object_position": null,
            "order": null,
            "overflow": null,
            "overflow_x": null,
            "overflow_y": null,
            "padding": null,
            "right": null,
            "top": null,
            "visibility": null,
            "width": null
          }
        },
        "b69edb05ddb84c85b40cc14bc9964a1b": {
          "model_module": "@jupyter-widgets/controls",
          "model_name": "DescriptionStyleModel",
          "model_module_version": "1.5.0",
          "state": {
            "_model_module": "@jupyter-widgets/controls",
            "_model_module_version": "1.5.0",
            "_model_name": "DescriptionStyleModel",
            "_view_count": null,
            "_view_module": "@jupyter-widgets/base",
            "_view_module_version": "1.2.0",
            "_view_name": "StyleView",
            "description_width": ""
          }
        },
        "86ee9a3eaeb141b7b6abcf07e41b699e": {
          "model_module": "@jupyter-widgets/controls",
          "model_name": "HBoxModel",
          "model_module_version": "1.5.0",
          "state": {
            "_dom_classes": [],
            "_model_module": "@jupyter-widgets/controls",
            "_model_module_version": "1.5.0",
            "_model_name": "HBoxModel",
            "_view_count": null,
            "_view_module": "@jupyter-widgets/controls",
            "_view_module_version": "1.5.0",
            "_view_name": "HBoxView",
            "box_style": "",
            "children": [
              "IPY_MODEL_e36988b53a784690968627e42971e83a",
              "IPY_MODEL_371972c8de1b42a9a07515637d0161aa",
              "IPY_MODEL_dde6092312d04b0b994aef7413a726e4"
            ],
            "layout": "IPY_MODEL_391297bb38144fc1a9df1f71142e9183"
          }
        },
        "e36988b53a784690968627e42971e83a": {
          "model_module": "@jupyter-widgets/controls",
          "model_name": "HTMLModel",
          "model_module_version": "1.5.0",
          "state": {
            "_dom_classes": [],
            "_model_module": "@jupyter-widgets/controls",
            "_model_module_version": "1.5.0",
            "_model_name": "HTMLModel",
            "_view_count": null,
            "_view_module": "@jupyter-widgets/controls",
            "_view_module_version": "1.5.0",
            "_view_name": "HTMLView",
            "description": "",
            "description_tooltip": null,
            "layout": "IPY_MODEL_40471bd46b764d769d95787f49597928",
            "placeholder": "​",
            "style": "IPY_MODEL_fd48e4593d904565a9e92145075918d6",
            "value": "Downloading (…)cial_tokens_map.json: 100%"
          }
        },
        "371972c8de1b42a9a07515637d0161aa": {
          "model_module": "@jupyter-widgets/controls",
          "model_name": "FloatProgressModel",
          "model_module_version": "1.5.0",
          "state": {
            "_dom_classes": [],
            "_model_module": "@jupyter-widgets/controls",
            "_model_module_version": "1.5.0",
            "_model_name": "FloatProgressModel",
            "_view_count": null,
            "_view_module": "@jupyter-widgets/controls",
            "_view_module_version": "1.5.0",
            "_view_name": "ProgressView",
            "bar_style": "success",
            "description": "",
            "description_tooltip": null,
            "layout": "IPY_MODEL_d23a48627e24411689c1b51e45771410",
            "max": 112,
            "min": 0,
            "orientation": "horizontal",
            "style": "IPY_MODEL_654736e362ce4ee5b43ab48f562dfd1b",
            "value": 112
          }
        },
        "dde6092312d04b0b994aef7413a726e4": {
          "model_module": "@jupyter-widgets/controls",
          "model_name": "HTMLModel",
          "model_module_version": "1.5.0",
          "state": {
            "_dom_classes": [],
            "_model_module": "@jupyter-widgets/controls",
            "_model_module_version": "1.5.0",
            "_model_name": "HTMLModel",
            "_view_count": null,
            "_view_module": "@jupyter-widgets/controls",
            "_view_module_version": "1.5.0",
            "_view_name": "HTMLView",
            "description": "",
            "description_tooltip": null,
            "layout": "IPY_MODEL_8ebc20a0b13c4515846b228a935ff9b0",
            "placeholder": "​",
            "style": "IPY_MODEL_b0846ab0a25645d78e1065c2a3c0ecd8",
            "value": " 112/112 [00:00&lt;00:00, 9.26kB/s]"
          }
        },
        "391297bb38144fc1a9df1f71142e9183": {
          "model_module": "@jupyter-widgets/base",
          "model_name": "LayoutModel",
          "model_module_version": "1.2.0",
          "state": {
            "_model_module": "@jupyter-widgets/base",
            "_model_module_version": "1.2.0",
            "_model_name": "LayoutModel",
            "_view_count": null,
            "_view_module": "@jupyter-widgets/base",
            "_view_module_version": "1.2.0",
            "_view_name": "LayoutView",
            "align_content": null,
            "align_items": null,
            "align_self": null,
            "border": null,
            "bottom": null,
            "display": null,
            "flex": null,
            "flex_flow": null,
            "grid_area": null,
            "grid_auto_columns": null,
            "grid_auto_flow": null,
            "grid_auto_rows": null,
            "grid_column": null,
            "grid_gap": null,
            "grid_row": null,
            "grid_template_areas": null,
            "grid_template_columns": null,
            "grid_template_rows": null,
            "height": null,
            "justify_content": null,
            "justify_items": null,
            "left": null,
            "margin": null,
            "max_height": null,
            "max_width": null,
            "min_height": null,
            "min_width": null,
            "object_fit": null,
            "object_position": null,
            "order": null,
            "overflow": null,
            "overflow_x": null,
            "overflow_y": null,
            "padding": null,
            "right": null,
            "top": null,
            "visibility": null,
            "width": null
          }
        },
        "40471bd46b764d769d95787f49597928": {
          "model_module": "@jupyter-widgets/base",
          "model_name": "LayoutModel",
          "model_module_version": "1.2.0",
          "state": {
            "_model_module": "@jupyter-widgets/base",
            "_model_module_version": "1.2.0",
            "_model_name": "LayoutModel",
            "_view_count": null,
            "_view_module": "@jupyter-widgets/base",
            "_view_module_version": "1.2.0",
            "_view_name": "LayoutView",
            "align_content": null,
            "align_items": null,
            "align_self": null,
            "border": null,
            "bottom": null,
            "display": null,
            "flex": null,
            "flex_flow": null,
            "grid_area": null,
            "grid_auto_columns": null,
            "grid_auto_flow": null,
            "grid_auto_rows": null,
            "grid_column": null,
            "grid_gap": null,
            "grid_row": null,
            "grid_template_areas": null,
            "grid_template_columns": null,
            "grid_template_rows": null,
            "height": null,
            "justify_content": null,
            "justify_items": null,
            "left": null,
            "margin": null,
            "max_height": null,
            "max_width": null,
            "min_height": null,
            "min_width": null,
            "object_fit": null,
            "object_position": null,
            "order": null,
            "overflow": null,
            "overflow_x": null,
            "overflow_y": null,
            "padding": null,
            "right": null,
            "top": null,
            "visibility": null,
            "width": null
          }
        },
        "fd48e4593d904565a9e92145075918d6": {
          "model_module": "@jupyter-widgets/controls",
          "model_name": "DescriptionStyleModel",
          "model_module_version": "1.5.0",
          "state": {
            "_model_module": "@jupyter-widgets/controls",
            "_model_module_version": "1.5.0",
            "_model_name": "DescriptionStyleModel",
            "_view_count": null,
            "_view_module": "@jupyter-widgets/base",
            "_view_module_version": "1.2.0",
            "_view_name": "StyleView",
            "description_width": ""
          }
        },
        "d23a48627e24411689c1b51e45771410": {
          "model_module": "@jupyter-widgets/base",
          "model_name": "LayoutModel",
          "model_module_version": "1.2.0",
          "state": {
            "_model_module": "@jupyter-widgets/base",
            "_model_module_version": "1.2.0",
            "_model_name": "LayoutModel",
            "_view_count": null,
            "_view_module": "@jupyter-widgets/base",
            "_view_module_version": "1.2.0",
            "_view_name": "LayoutView",
            "align_content": null,
            "align_items": null,
            "align_self": null,
            "border": null,
            "bottom": null,
            "display": null,
            "flex": null,
            "flex_flow": null,
            "grid_area": null,
            "grid_auto_columns": null,
            "grid_auto_flow": null,
            "grid_auto_rows": null,
            "grid_column": null,
            "grid_gap": null,
            "grid_row": null,
            "grid_template_areas": null,
            "grid_template_columns": null,
            "grid_template_rows": null,
            "height": null,
            "justify_content": null,
            "justify_items": null,
            "left": null,
            "margin": null,
            "max_height": null,
            "max_width": null,
            "min_height": null,
            "min_width": null,
            "object_fit": null,
            "object_position": null,
            "order": null,
            "overflow": null,
            "overflow_x": null,
            "overflow_y": null,
            "padding": null,
            "right": null,
            "top": null,
            "visibility": null,
            "width": null
          }
        },
        "654736e362ce4ee5b43ab48f562dfd1b": {
          "model_module": "@jupyter-widgets/controls",
          "model_name": "ProgressStyleModel",
          "model_module_version": "1.5.0",
          "state": {
            "_model_module": "@jupyter-widgets/controls",
            "_model_module_version": "1.5.0",
            "_model_name": "ProgressStyleModel",
            "_view_count": null,
            "_view_module": "@jupyter-widgets/base",
            "_view_module_version": "1.2.0",
            "_view_name": "StyleView",
            "bar_color": null,
            "description_width": ""
          }
        },
        "8ebc20a0b13c4515846b228a935ff9b0": {
          "model_module": "@jupyter-widgets/base",
          "model_name": "LayoutModel",
          "model_module_version": "1.2.0",
          "state": {
            "_model_module": "@jupyter-widgets/base",
            "_model_module_version": "1.2.0",
            "_model_name": "LayoutModel",
            "_view_count": null,
            "_view_module": "@jupyter-widgets/base",
            "_view_module_version": "1.2.0",
            "_view_name": "LayoutView",
            "align_content": null,
            "align_items": null,
            "align_self": null,
            "border": null,
            "bottom": null,
            "display": null,
            "flex": null,
            "flex_flow": null,
            "grid_area": null,
            "grid_auto_columns": null,
            "grid_auto_flow": null,
            "grid_auto_rows": null,
            "grid_column": null,
            "grid_gap": null,
            "grid_row": null,
            "grid_template_areas": null,
            "grid_template_columns": null,
            "grid_template_rows": null,
            "height": null,
            "justify_content": null,
            "justify_items": null,
            "left": null,
            "margin": null,
            "max_height": null,
            "max_width": null,
            "min_height": null,
            "min_width": null,
            "object_fit": null,
            "object_position": null,
            "order": null,
            "overflow": null,
            "overflow_x": null,
            "overflow_y": null,
            "padding": null,
            "right": null,
            "top": null,
            "visibility": null,
            "width": null
          }
        },
        "b0846ab0a25645d78e1065c2a3c0ecd8": {
          "model_module": "@jupyter-widgets/controls",
          "model_name": "DescriptionStyleModel",
          "model_module_version": "1.5.0",
          "state": {
            "_model_module": "@jupyter-widgets/controls",
            "_model_module_version": "1.5.0",
            "_model_name": "DescriptionStyleModel",
            "_view_count": null,
            "_view_module": "@jupyter-widgets/base",
            "_view_module_version": "1.2.0",
            "_view_name": "StyleView",
            "description_width": ""
          }
        },
        "494b4ca4b7ce4617bc37bc745d977164": {
          "model_module": "@jupyter-widgets/controls",
          "model_name": "HBoxModel",
          "model_module_version": "1.5.0",
          "state": {
            "_dom_classes": [],
            "_model_module": "@jupyter-widgets/controls",
            "_model_module_version": "1.5.0",
            "_model_name": "HBoxModel",
            "_view_count": null,
            "_view_module": "@jupyter-widgets/controls",
            "_view_module_version": "1.5.0",
            "_view_name": "HBoxView",
            "box_style": "",
            "children": [
              "IPY_MODEL_02d67fd31afc464691591387c11943ec",
              "IPY_MODEL_33bfdbdb575b4fa9b987caf687873c3f",
              "IPY_MODEL_68f0dd14864a40d8ad1a3081f8b7a5d4"
            ],
            "layout": "IPY_MODEL_bcb46b5bc706455c9bb83b849355e7d2"
          }
        },
        "02d67fd31afc464691591387c11943ec": {
          "model_module": "@jupyter-widgets/controls",
          "model_name": "HTMLModel",
          "model_module_version": "1.5.0",
          "state": {
            "_dom_classes": [],
            "_model_module": "@jupyter-widgets/controls",
            "_model_module_version": "1.5.0",
            "_model_name": "HTMLModel",
            "_view_count": null,
            "_view_module": "@jupyter-widgets/controls",
            "_view_module_version": "1.5.0",
            "_view_name": "HTMLView",
            "description": "",
            "description_tooltip": null,
            "layout": "IPY_MODEL_7be900d851a54cc6b40fd065b7487e13",
            "placeholder": "​",
            "style": "IPY_MODEL_4bc51076e3354aae8f103df3dad0179e",
            "value": "Downloading pytorch_model.bin: 100%"
          }
        },
        "33bfdbdb575b4fa9b987caf687873c3f": {
          "model_module": "@jupyter-widgets/controls",
          "model_name": "FloatProgressModel",
          "model_module_version": "1.5.0",
          "state": {
            "_dom_classes": [],
            "_model_module": "@jupyter-widgets/controls",
            "_model_module_version": "1.5.0",
            "_model_name": "FloatProgressModel",
            "_view_count": null,
            "_view_module": "@jupyter-widgets/controls",
            "_view_module_version": "1.5.0",
            "_view_name": "ProgressView",
            "bar_style": "success",
            "description": "",
            "description_tooltip": null,
            "layout": "IPY_MODEL_fada82b3a2d94ff2bf07dfe930a75823",
            "max": 440474526,
            "min": 0,
            "orientation": "horizontal",
            "style": "IPY_MODEL_a8ac133db9014354959d6d60f2f44128",
            "value": 440474526
          }
        },
        "68f0dd14864a40d8ad1a3081f8b7a5d4": {
          "model_module": "@jupyter-widgets/controls",
          "model_name": "HTMLModel",
          "model_module_version": "1.5.0",
          "state": {
            "_dom_classes": [],
            "_model_module": "@jupyter-widgets/controls",
            "_model_module_version": "1.5.0",
            "_model_name": "HTMLModel",
            "_view_count": null,
            "_view_module": "@jupyter-widgets/controls",
            "_view_module_version": "1.5.0",
            "_view_name": "HTMLView",
            "description": "",
            "description_tooltip": null,
            "layout": "IPY_MODEL_9826ddde162941b696f4cdf3a945ced5",
            "placeholder": "​",
            "style": "IPY_MODEL_12ceb1ee436d4fbfa449234ae173bc1c",
            "value": " 440M/440M [00:05&lt;00:00, 92.3MB/s]"
          }
        },
        "bcb46b5bc706455c9bb83b849355e7d2": {
          "model_module": "@jupyter-widgets/base",
          "model_name": "LayoutModel",
          "model_module_version": "1.2.0",
          "state": {
            "_model_module": "@jupyter-widgets/base",
            "_model_module_version": "1.2.0",
            "_model_name": "LayoutModel",
            "_view_count": null,
            "_view_module": "@jupyter-widgets/base",
            "_view_module_version": "1.2.0",
            "_view_name": "LayoutView",
            "align_content": null,
            "align_items": null,
            "align_self": null,
            "border": null,
            "bottom": null,
            "display": null,
            "flex": null,
            "flex_flow": null,
            "grid_area": null,
            "grid_auto_columns": null,
            "grid_auto_flow": null,
            "grid_auto_rows": null,
            "grid_column": null,
            "grid_gap": null,
            "grid_row": null,
            "grid_template_areas": null,
            "grid_template_columns": null,
            "grid_template_rows": null,
            "height": null,
            "justify_content": null,
            "justify_items": null,
            "left": null,
            "margin": null,
            "max_height": null,
            "max_width": null,
            "min_height": null,
            "min_width": null,
            "object_fit": null,
            "object_position": null,
            "order": null,
            "overflow": null,
            "overflow_x": null,
            "overflow_y": null,
            "padding": null,
            "right": null,
            "top": null,
            "visibility": null,
            "width": null
          }
        },
        "7be900d851a54cc6b40fd065b7487e13": {
          "model_module": "@jupyter-widgets/base",
          "model_name": "LayoutModel",
          "model_module_version": "1.2.0",
          "state": {
            "_model_module": "@jupyter-widgets/base",
            "_model_module_version": "1.2.0",
            "_model_name": "LayoutModel",
            "_view_count": null,
            "_view_module": "@jupyter-widgets/base",
            "_view_module_version": "1.2.0",
            "_view_name": "LayoutView",
            "align_content": null,
            "align_items": null,
            "align_self": null,
            "border": null,
            "bottom": null,
            "display": null,
            "flex": null,
            "flex_flow": null,
            "grid_area": null,
            "grid_auto_columns": null,
            "grid_auto_flow": null,
            "grid_auto_rows": null,
            "grid_column": null,
            "grid_gap": null,
            "grid_row": null,
            "grid_template_areas": null,
            "grid_template_columns": null,
            "grid_template_rows": null,
            "height": null,
            "justify_content": null,
            "justify_items": null,
            "left": null,
            "margin": null,
            "max_height": null,
            "max_width": null,
            "min_height": null,
            "min_width": null,
            "object_fit": null,
            "object_position": null,
            "order": null,
            "overflow": null,
            "overflow_x": null,
            "overflow_y": null,
            "padding": null,
            "right": null,
            "top": null,
            "visibility": null,
            "width": null
          }
        },
        "4bc51076e3354aae8f103df3dad0179e": {
          "model_module": "@jupyter-widgets/controls",
          "model_name": "DescriptionStyleModel",
          "model_module_version": "1.5.0",
          "state": {
            "_model_module": "@jupyter-widgets/controls",
            "_model_module_version": "1.5.0",
            "_model_name": "DescriptionStyleModel",
            "_view_count": null,
            "_view_module": "@jupyter-widgets/base",
            "_view_module_version": "1.2.0",
            "_view_name": "StyleView",
            "description_width": ""
          }
        },
        "fada82b3a2d94ff2bf07dfe930a75823": {
          "model_module": "@jupyter-widgets/base",
          "model_name": "LayoutModel",
          "model_module_version": "1.2.0",
          "state": {
            "_model_module": "@jupyter-widgets/base",
            "_model_module_version": "1.2.0",
            "_model_name": "LayoutModel",
            "_view_count": null,
            "_view_module": "@jupyter-widgets/base",
            "_view_module_version": "1.2.0",
            "_view_name": "LayoutView",
            "align_content": null,
            "align_items": null,
            "align_self": null,
            "border": null,
            "bottom": null,
            "display": null,
            "flex": null,
            "flex_flow": null,
            "grid_area": null,
            "grid_auto_columns": null,
            "grid_auto_flow": null,
            "grid_auto_rows": null,
            "grid_column": null,
            "grid_gap": null,
            "grid_row": null,
            "grid_template_areas": null,
            "grid_template_columns": null,
            "grid_template_rows": null,
            "height": null,
            "justify_content": null,
            "justify_items": null,
            "left": null,
            "margin": null,
            "max_height": null,
            "max_width": null,
            "min_height": null,
            "min_width": null,
            "object_fit": null,
            "object_position": null,
            "order": null,
            "overflow": null,
            "overflow_x": null,
            "overflow_y": null,
            "padding": null,
            "right": null,
            "top": null,
            "visibility": null,
            "width": null
          }
        },
        "a8ac133db9014354959d6d60f2f44128": {
          "model_module": "@jupyter-widgets/controls",
          "model_name": "ProgressStyleModel",
          "model_module_version": "1.5.0",
          "state": {
            "_model_module": "@jupyter-widgets/controls",
            "_model_module_version": "1.5.0",
            "_model_name": "ProgressStyleModel",
            "_view_count": null,
            "_view_module": "@jupyter-widgets/base",
            "_view_module_version": "1.2.0",
            "_view_name": "StyleView",
            "bar_color": null,
            "description_width": ""
          }
        },
        "9826ddde162941b696f4cdf3a945ced5": {
          "model_module": "@jupyter-widgets/base",
          "model_name": "LayoutModel",
          "model_module_version": "1.2.0",
          "state": {
            "_model_module": "@jupyter-widgets/base",
            "_model_module_version": "1.2.0",
            "_model_name": "LayoutModel",
            "_view_count": null,
            "_view_module": "@jupyter-widgets/base",
            "_view_module_version": "1.2.0",
            "_view_name": "LayoutView",
            "align_content": null,
            "align_items": null,
            "align_self": null,
            "border": null,
            "bottom": null,
            "display": null,
            "flex": null,
            "flex_flow": null,
            "grid_area": null,
            "grid_auto_columns": null,
            "grid_auto_flow": null,
            "grid_auto_rows": null,
            "grid_column": null,
            "grid_gap": null,
            "grid_row": null,
            "grid_template_areas": null,
            "grid_template_columns": null,
            "grid_template_rows": null,
            "height": null,
            "justify_content": null,
            "justify_items": null,
            "left": null,
            "margin": null,
            "max_height": null,
            "max_width": null,
            "min_height": null,
            "min_width": null,
            "object_fit": null,
            "object_position": null,
            "order": null,
            "overflow": null,
            "overflow_x": null,
            "overflow_y": null,
            "padding": null,
            "right": null,
            "top": null,
            "visibility": null,
            "width": null
          }
        },
        "12ceb1ee436d4fbfa449234ae173bc1c": {
          "model_module": "@jupyter-widgets/controls",
          "model_name": "DescriptionStyleModel",
          "model_module_version": "1.5.0",
          "state": {
            "_model_module": "@jupyter-widgets/controls",
            "_model_module_version": "1.5.0",
            "_model_name": "DescriptionStyleModel",
            "_view_count": null,
            "_view_module": "@jupyter-widgets/base",
            "_view_module_version": "1.2.0",
            "_view_name": "StyleView",
            "description_width": ""
          }
        }
      }
    }
  },
  "cells": [
    {
      "cell_type": "code",
      "source": [
        "import pandas as pd\n",
        "!pip install transformers\n",
        "from tensorflow.keras.preprocessing.sequence import pad_sequences\n",
        "from transformers import BertModel, BertTokenizer\n",
        "import torch\n",
        "import progressbar\n",
        "from transformers import BertTokenizer, TFBertModel"
      ],
      "metadata": {
        "colab": {
          "base_uri": "https://localhost:8080/"
        },
        "id": "TxPFOWypS-CT",
        "outputId": "1cd69ffd-581d-45a4-b4f1-5b45343b35cc"
      },
      "execution_count": null,
      "outputs": [
        {
          "output_type": "stream",
          "name": "stdout",
          "text": [
            "Looking in indexes: https://pypi.org/simple, https://us-python.pkg.dev/colab-wheels/public/simple/\n",
            "Collecting transformers\n",
            "  Downloading transformers-4.30.2-py3-none-any.whl (7.2 MB)\n",
            "\u001b[2K     \u001b[90m━━━━━━━━━━━━━━━━━━━━━━━━━━━━━━━━━━━━━━━━\u001b[0m \u001b[32m7.2/7.2 MB\u001b[0m \u001b[31m62.0 MB/s\u001b[0m eta \u001b[36m0:00:00\u001b[0m\n",
            "\u001b[?25hRequirement already satisfied: filelock in /usr/local/lib/python3.10/dist-packages (from transformers) (3.12.0)\n",
            "Collecting huggingface-hub<1.0,>=0.14.1 (from transformers)\n",
            "  Downloading huggingface_hub-0.15.1-py3-none-any.whl (236 kB)\n",
            "\u001b[2K     \u001b[90m━━━━━━━━━━━━━━━━━━━━━━━━━━━━━━━━━━━━━━\u001b[0m \u001b[32m236.8/236.8 kB\u001b[0m \u001b[31m30.0 MB/s\u001b[0m eta \u001b[36m0:00:00\u001b[0m\n",
            "\u001b[?25hRequirement already satisfied: numpy>=1.17 in /usr/local/lib/python3.10/dist-packages (from transformers) (1.22.4)\n",
            "Requirement already satisfied: packaging>=20.0 in /usr/local/lib/python3.10/dist-packages (from transformers) (23.1)\n",
            "Requirement already satisfied: pyyaml>=5.1 in /usr/local/lib/python3.10/dist-packages (from transformers) (6.0)\n",
            "Requirement already satisfied: regex!=2019.12.17 in /usr/local/lib/python3.10/dist-packages (from transformers) (2022.10.31)\n",
            "Requirement already satisfied: requests in /usr/local/lib/python3.10/dist-packages (from transformers) (2.27.1)\n",
            "Collecting tokenizers!=0.11.3,<0.14,>=0.11.1 (from transformers)\n",
            "  Downloading tokenizers-0.13.3-cp310-cp310-manylinux_2_17_x86_64.manylinux2014_x86_64.whl (7.8 MB)\n",
            "\u001b[2K     \u001b[90m━━━━━━━━━━━━━━━━━━━━━━━━━━━━━━━━━━━━━━━━\u001b[0m \u001b[32m7.8/7.8 MB\u001b[0m \u001b[31m86.7 MB/s\u001b[0m eta \u001b[36m0:00:00\u001b[0m\n",
            "\u001b[?25hCollecting safetensors>=0.3.1 (from transformers)\n",
            "  Downloading safetensors-0.3.1-cp310-cp310-manylinux_2_17_x86_64.manylinux2014_x86_64.whl (1.3 MB)\n",
            "\u001b[2K     \u001b[90m━━━━━━━━━━━━━━━━━━━━━━━━━━━━━━━━━━━━━━━━\u001b[0m \u001b[32m1.3/1.3 MB\u001b[0m \u001b[31m71.0 MB/s\u001b[0m eta \u001b[36m0:00:00\u001b[0m\n",
            "\u001b[?25hRequirement already satisfied: tqdm>=4.27 in /usr/local/lib/python3.10/dist-packages (from transformers) (4.65.0)\n",
            "Requirement already satisfied: fsspec in /usr/local/lib/python3.10/dist-packages (from huggingface-hub<1.0,>=0.14.1->transformers) (2023.4.0)\n",
            "Requirement already satisfied: typing-extensions>=3.7.4.3 in /usr/local/lib/python3.10/dist-packages (from huggingface-hub<1.0,>=0.14.1->transformers) (4.5.0)\n",
            "Requirement already satisfied: urllib3<1.27,>=1.21.1 in /usr/local/lib/python3.10/dist-packages (from requests->transformers) (1.26.15)\n",
            "Requirement already satisfied: certifi>=2017.4.17 in /usr/local/lib/python3.10/dist-packages (from requests->transformers) (2022.12.7)\n",
            "Requirement already satisfied: charset-normalizer~=2.0.0 in /usr/local/lib/python3.10/dist-packages (from requests->transformers) (2.0.12)\n",
            "Requirement already satisfied: idna<4,>=2.5 in /usr/local/lib/python3.10/dist-packages (from requests->transformers) (3.4)\n",
            "Installing collected packages: tokenizers, safetensors, huggingface-hub, transformers\n",
            "Successfully installed huggingface-hub-0.15.1 safetensors-0.3.1 tokenizers-0.13.3 transformers-4.30.2\n"
          ]
        }
      ]
    },
    {
      "cell_type": "code",
      "source": [
        "from google.colab import drive\n",
        "drive.mount(\"/content/drive\")"
      ],
      "metadata": {
        "colab": {
          "base_uri": "https://localhost:8080/"
        },
        "id": "vjReumy4T6Hf",
        "outputId": "bfa72640-35ad-413f-e342-3825f2ea437c"
      },
      "execution_count": null,
      "outputs": [
        {
          "output_type": "stream",
          "name": "stdout",
          "text": [
            "Mounted at /content/drive\n"
          ]
        }
      ]
    },
    {
      "cell_type": "code",
      "execution_count": null,
      "metadata": {
        "id": "QHgUGo7pCmrz"
      },
      "outputs": [],
      "source": [
        "f=open(\"/content/judgement_prediction_test.txt\",'r')\n",
        "df=f.read()\n",
        "l=df.split('\\n')"
      ]
    },
    {
      "cell_type": "code",
      "source": [
        "import json\n",
        "tg=open(\"/content/tag.txt\",'r')\n",
        "dff=tg.read()\n",
        "lt=[]\n",
        "dff=eval(dff)\n",
        "#print(dff)\n",
        "for i in dff:\n",
        "  #print(i)\n",
        "  s=''\n",
        "  for j in dff[i]:\n",
        "    s+=j+' '\n",
        "  lt.append(s)"
      ],
      "metadata": {
        "id": "-SbyCttCMTjm"
      },
      "execution_count": null,
      "outputs": []
    },
    {
      "cell_type": "code",
      "source": [
        "print(lt[l.index(\"1988_291.txt\")])"
      ],
      "metadata": {
        "colab": {
          "base_uri": "https://localhost:8080/"
        },
        "id": "FcIjjZPovHP1",
        "outputId": "a6554467-0de9-4270-c6d7-dc4d6a630bd4"
      },
      "execution_count": null,
      "outputs": [
        {
          "output_type": "stream",
          "name": "stdout",
          "text": [
            "evidence expert witness riot witness homicide murder \n"
          ]
        }
      ]
    },
    {
      "cell_type": "code",
      "source": [
        "from transformers import AutoTokenizer, AutoModel\n",
        "tokenizer = AutoTokenizer.from_pretrained(\"law-ai/InLegalBERT\")\n",
        "model = AutoModel.from_pretrained(\"law-ai/InLegalBERT\")\n",
        "import torch\n",
        "\n",
        "# Load the Longformer model and tokenizer\n",
        "'''model_name = 'allenai/longformer-base-4096'\n",
        "tokenizer = LongformerTokenizer.from_pretrained(model_name)\n",
        "model = LongformerModel.from_pretrained(model_name)'''"
      ],
      "metadata": {
        "colab": {
          "base_uri": "https://localhost:8080/",
          "height": 125
        },
        "id": "8G7HMKCfDt5r",
        "outputId": "28c9ea1a-6688-466a-f671-40893fbea25e"
      },
      "execution_count": null,
      "outputs": [
        {
          "output_type": "stream",
          "name": "stderr",
          "text": [
            "Some weights of the model checkpoint at law-ai/InLegalBERT were not used when initializing BertModel: ['cls.predictions.transform.LayerNorm.weight', 'cls.seq_relationship.weight', 'cls.predictions.transform.LayerNorm.bias', 'cls.predictions.decoder.bias', 'cls.seq_relationship.bias', 'cls.predictions.transform.dense.weight', 'cls.predictions.transform.dense.bias', 'cls.predictions.bias', 'cls.predictions.decoder.weight']\n",
            "- This IS expected if you are initializing BertModel from the checkpoint of a model trained on another task or with another architecture (e.g. initializing a BertForSequenceClassification model from a BertForPreTraining model).\n",
            "- This IS NOT expected if you are initializing BertModel from the checkpoint of a model that you expect to be exactly identical (initializing a BertForSequenceClassification model from a BertForSequenceClassification model).\n"
          ]
        },
        {
          "output_type": "execute_result",
          "data": {
            "text/plain": [
              "\"model_name = 'allenai/longformer-base-4096'\\ntokenizer = LongformerTokenizer.from_pretrained(model_name)\\nmodel = LongformerModel.from_pretrained(model_name)\""
            ],
            "application/vnd.google.colaboratory.intrinsic+json": {
              "type": "string"
            }
          },
          "metadata": {},
          "execution_count": 14
        }
      ]
    },
    {
      "cell_type": "code",
      "source": [
        "#tokenizer = BertTokenizer.from_pretrained('bert-base-uncased')\n",
        "#model = BertModel.from_pretrained(\"bert-base-uncased\")\n",
        "tokenizer = AutoTokenizer.from_pretrained(\"nlpaueb/legal-bert-base-uncased\")\n",
        "model = AutoModel.from_pretrained(\"nlpaueb/legal-bert-base-uncased\")"
      ],
      "metadata": {
        "colab": {
          "base_uri": "https://localhost:8080/",
          "height": 249,
          "referenced_widgets": [
            "85d66dcaa49640adb5464f25fbdb217a",
            "6d9d88bf078c41f4beaae59ae4226734",
            "03070dbd5d9542a4aa62e207b027b099",
            "e9888fab85f94681a28d5321b134ebfa",
            "052444661d6241de9b367960a2654493",
            "4255da902430493bbba68402590a5c87",
            "a00dd47c55e9417393b920f219c82749",
            "c02ec9819555495d84b34559a2941977",
            "b92af0c017a143c0b8c08306ad1ecd98",
            "fcc4b9e6149a4eca99e382cffc7f70e9",
            "15d01c984f574a949b667a91d7f97525",
            "cf7fec5b2c2041c2a0b1eb7ba0c178ab",
            "6f53dd894d9d4819a6962a536a7b45c8",
            "b703ddd841dd4ccf95cfd86400d32cc8",
            "835c0f21006841f89b011928d21effc9",
            "27665fa76fd84bdf8f5e08bf09f154d0",
            "1b3604abe1894f9bb0e3d7387babdea9",
            "3dcedac21c4b4f22a4bfd8381589c6ce",
            "641aba3af0da401884952d905afb6ad8",
            "cfe25d6a41e8486a9671aad5606267de",
            "e3ebc96e630e437e81560e0379f3403a",
            "1bae4dd3de29481488c9a76c267d056a",
            "ba84dc461cab4fe4a840a6c90413cf93",
            "65d6a55038fb42979e2fac5a67030bca",
            "fae49096bc7f42288feb1e143a42590e",
            "ab0352c7f02c4238892e4cce7f3cc8cb",
            "56569c3d341249fc9ae760471c365fd3",
            "323caafd449a45358b7da003eb19002c",
            "3d3baecbf83045128c9b3fa788c21c5d",
            "7fe35d6edec64c948c6838aa4b01fc2b",
            "0b85d47e22864c47b4f7dfea8cc0c5ef",
            "f61fff6cd6af44649262e8ae76c1e91a",
            "b69edb05ddb84c85b40cc14bc9964a1b",
            "86ee9a3eaeb141b7b6abcf07e41b699e",
            "e36988b53a784690968627e42971e83a",
            "371972c8de1b42a9a07515637d0161aa",
            "dde6092312d04b0b994aef7413a726e4",
            "391297bb38144fc1a9df1f71142e9183",
            "40471bd46b764d769d95787f49597928",
            "fd48e4593d904565a9e92145075918d6",
            "d23a48627e24411689c1b51e45771410",
            "654736e362ce4ee5b43ab48f562dfd1b",
            "8ebc20a0b13c4515846b228a935ff9b0",
            "b0846ab0a25645d78e1065c2a3c0ecd8",
            "494b4ca4b7ce4617bc37bc745d977164",
            "02d67fd31afc464691591387c11943ec",
            "33bfdbdb575b4fa9b987caf687873c3f",
            "68f0dd14864a40d8ad1a3081f8b7a5d4",
            "bcb46b5bc706455c9bb83b849355e7d2",
            "7be900d851a54cc6b40fd065b7487e13",
            "4bc51076e3354aae8f103df3dad0179e",
            "fada82b3a2d94ff2bf07dfe930a75823",
            "a8ac133db9014354959d6d60f2f44128",
            "9826ddde162941b696f4cdf3a945ced5",
            "12ceb1ee436d4fbfa449234ae173bc1c"
          ]
        },
        "id": "317AIGtjS6Al",
        "outputId": "c1904a11-ea9a-4c59-cbfc-901db6ca5228"
      },
      "execution_count": null,
      "outputs": [
        {
          "output_type": "display_data",
          "data": {
            "text/plain": [
              "Downloading (…)okenizer_config.json:   0%|          | 0.00/48.0 [00:00<?, ?B/s]"
            ],
            "application/vnd.jupyter.widget-view+json": {
              "version_major": 2,
              "version_minor": 0,
              "model_id": "85d66dcaa49640adb5464f25fbdb217a"
            }
          },
          "metadata": {}
        },
        {
          "output_type": "display_data",
          "data": {
            "text/plain": [
              "Downloading (…)lve/main/config.json: 0.00B [00:00, ?B/s]"
            ],
            "application/vnd.jupyter.widget-view+json": {
              "version_major": 2,
              "version_minor": 0,
              "model_id": "cf7fec5b2c2041c2a0b1eb7ba0c178ab"
            }
          },
          "metadata": {}
        },
        {
          "output_type": "display_data",
          "data": {
            "text/plain": [
              "Downloading (…)solve/main/vocab.txt: 0.00B [00:00, ?B/s]"
            ],
            "application/vnd.jupyter.widget-view+json": {
              "version_major": 2,
              "version_minor": 0,
              "model_id": "ba84dc461cab4fe4a840a6c90413cf93"
            }
          },
          "metadata": {}
        },
        {
          "output_type": "display_data",
          "data": {
            "text/plain": [
              "Downloading (…)cial_tokens_map.json:   0%|          | 0.00/112 [00:00<?, ?B/s]"
            ],
            "application/vnd.jupyter.widget-view+json": {
              "version_major": 2,
              "version_minor": 0,
              "model_id": "86ee9a3eaeb141b7b6abcf07e41b699e"
            }
          },
          "metadata": {}
        },
        {
          "output_type": "display_data",
          "data": {
            "text/plain": [
              "Downloading pytorch_model.bin:   0%|          | 0.00/440M [00:00<?, ?B/s]"
            ],
            "application/vnd.jupyter.widget-view+json": {
              "version_major": 2,
              "version_minor": 0,
              "model_id": "494b4ca4b7ce4617bc37bc745d977164"
            }
          },
          "metadata": {}
        },
        {
          "output_type": "stream",
          "name": "stderr",
          "text": [
            "Some weights of the model checkpoint at nlpaueb/legal-bert-base-uncased were not used when initializing BertModel: ['cls.predictions.transform.LayerNorm.weight', 'cls.seq_relationship.weight', 'cls.predictions.transform.LayerNorm.bias', 'cls.predictions.decoder.bias', 'cls.seq_relationship.bias', 'cls.predictions.transform.dense.weight', 'cls.predictions.transform.dense.bias', 'cls.predictions.bias', 'cls.predictions.decoder.weight']\n",
            "- This IS expected if you are initializing BertModel from the checkpoint of a model trained on another task or with another architecture (e.g. initializing a BertForSequenceClassification model from a BertForPreTraining model).\n",
            "- This IS NOT expected if you are initializing BertModel from the checkpoint of a model that you expect to be exactly identical (initializing a BertForSequenceClassification model from a BertForSequenceClassification model).\n"
          ]
        }
      ]
    },
    {
      "cell_type": "code",
      "source": [
        "import numpy as np\n",
        "def generate_np_files_for_training(text, tokenizer):\n",
        "  all_input_ids, all_att_masks, all_labels = [], [], []\n",
        "  toks = tokenizer.tokenize(text)\n",
        "  if(len(toks) > 10000):\n",
        "      toks = toks[len(toks)-10000:]\n",
        "  tokens = ['[CLS]'] + toks[-510:] + ['[SEP]']\n",
        "  input_ids = tokenizer.convert_tokens_to_ids(tokens)\n",
        "  input_tensor = torch.tensor(input_ids)\n",
        "  # Get the model's output\n",
        "  with torch.no_grad():\n",
        "    output = model(input_tensor.unsqueeze(0))\n",
        "  embedding = output.last_hidden_state[:, 0, :]\n",
        "  embedded=embedding.tolist()\n",
        "  return embedded[0]"
      ],
      "metadata": {
        "id": "78h-qpIjTKXK"
      },
      "execution_count": null,
      "outputs": []
    },
    {
      "cell_type": "code",
      "source": [
        "def test(dataf):\n",
        "  embedded_list=[]\n",
        "  for i in progressbar.progressbar(range(len(dataf['text']))):\n",
        "    text = dataf['text'].iloc[i]\n",
        "    k=generate_np_files_for_training(text, tokenizer)\n",
        "    embedded_list.append(k)\n",
        "  return embedded_list\n"
      ],
      "metadata": {
        "id": "VAbJd5doEFWv"
      },
      "execution_count": null,
      "outputs": []
    },
    {
      "cell_type": "code",
      "source": [
        "lst=test(train_set)\n",
        "X=np.array(lst)\n",
        "np.save(\"/content/drive/MyDrive/experiment/longformertraining.npy\", X)"
      ],
      "metadata": {
        "id": "SPD-qrlRhJsC",
        "colab": {
          "base_uri": "https://localhost:8080/"
        },
        "outputId": "5abc3645-d2b1-4a4f-cef5-2ba2b61751ed"
      },
      "execution_count": null,
      "outputs": [
        {
          "output_type": "stream",
          "name": "stderr",
          "text": [
            " 95% (4856 of 5082) |################### | Elapsed Time: 6:10:01 ETA:   0:15:06"
          ]
        }
      ]
    },
    {
      "cell_type": "code",
      "source": [
        "import pandas as pd\n",
        "df=pd.read_csv('/content/drive/MyDrive/ILDC_single.csv')\n",
        "train_set= df.query(\" split=='train' \")\n",
        "test_set= df.query(\" split=='test' \")"
      ],
      "metadata": {
        "id": "fQYDS_gxUJWC"
      },
      "execution_count": null,
      "outputs": []
    },
    {
      "cell_type": "code",
      "source": [
        "lst=test_set[\"name\"].tolist()\n",
        "lst1,lst2,lst3=[],[],[]\n",
        "for i in l:\n",
        "  set,set1=[],[]\n",
        "  if i in lst:\n",
        "    set=generate_np_files_for_training(test_set.loc[5082+lst.index(i)].at[\"text\"],tokenizer)\n",
        "    set1=generate_np_files_for_training(test_set.loc[5082+lst.index(i)].at[\"text\"]+lt[l.index(i)],tokenizer)\n",
        "    #set.extend(generate_np_files_for_training(lt[l.index(i)],tokenizer))\n",
        "    lst2.append(int(test_set.loc[5082+lst.index(i)].at[\"label\"]))\n",
        "    lst1.append(set)\n",
        "    lst3.append(set1)\n",
        "tst=np.array(lst1)\n",
        "tst2=np.array(lst3)\n",
        "#np.save(\"/content/drive/MyDrive/experiment/longtest.npy\",tst)\n",
        "#np.save(\"/content/drive/MyDrive/experiment/longtestannotated\",tst2)"
      ],
      "metadata": {
        "id": "QDvd9pcmW7yW",
        "colab": {
          "base_uri": "https://localhost:8080/"
        },
        "outputId": "dd1ceb46-c0e2-4ea6-dfb7-a230717c20cb"
      },
      "execution_count": null,
      "outputs": [
        {
          "output_type": "stream",
          "name": "stderr",
          "text": [
            "Token indices sequence length is longer than the specified maximum sequence length for this model (10702 > 512). Running this sequence through the model will result in indexing errors\n"
          ]
        }
      ]
    },
    {
      "cell_type": "code",
      "source": [
        "lst=test_set[\"name\"].tolist()\n",
        "print(len(lst))\n",
        "lst1,lst2,lst3=[],[],[]\n",
        "set,set1=[],[]\n",
        "if \"1981_187.txt\" in lst:\n",
        "  set=generate_np_files_for_training(test_set.loc[5082+lst.index(\"1981_187.txt\")].at[\"text\"],tokenizer)\n",
        "  set1=generate_np_files_for_training(test_set.loc[5082+lst.index(\"1981_187.txt\")].at[\"text\"]+lt[l.index(\"1981_187.txt\")],tokenizer)\n",
        "#set.extend(generate_np_files_for_training(lt[l.index(i)],tokenizer))\n"
      ],
      "metadata": {
        "colab": {
          "base_uri": "https://localhost:8080/"
        },
        "id": "gf4Bq_SBhtSj",
        "outputId": "60ff34ae-59ab-432a-9b58-a1db96c5d1b7"
      },
      "execution_count": null,
      "outputs": [
        {
          "output_type": "stream",
          "name": "stdout",
          "text": [
            "1517\n",
            "['[CLS]', 'and', 'the', 'appellant', 'assaulted', 'the', 'deceased', 'with', 'the', 'blunt', 'side', 'of', 'the', 'gan', '##d', '##hala', 'on', 'the', 'head', 'in', 'the', 'heat', 'of', 'the', 'moment', '.', 'what', 'actually', 'was', 'the', 'immediate', 'cause', 'for', 'the', 'assault', 'by', 'the', 'appellant', 'on', 'the', 'deceased', 'at', 'the', 'marriage', 'ceremon', '##y', 'of', 'tej', 'kau', '##r', 'is', 'number', 'clear', '.', 'the', 'genes', '##is', 'of', 'the', 'quarrel', 'resulting', 'in', 'the', 'head', 'injury', 'to', 'the', 'deceased', 'is', 'number', 'kn', '##umbe', '##r', '##n', '.', 'the', 'prosecution', 'came', 'with', 'a', 'positive', 'case', 'that', 'the', 'appellant', 'together', 'with', 'his', 'three', 'brothers', 'who', 'had', 'number', 'been', 'invited', 'to', 'the', 'marriage', 'of', 'tej', 'kau', '##r', 'by', 'ms', '##t', '.', 'dal', '##i', '##p', 'kau', '##r', 'at', 'the', 'instigation', 'of', 'deceased', 'chan', '##an', 'singh', 'came', 'armed', 'with', 'different', 'weapons', 'to', 'teach', 'the', 'deceased', 'a', 'lesson', '.', 'but', 'the', 'prosecution', 'has', 'failed', 'to', 'examine', 'ms', '##t', '.', 'dal', '##i', '##p', 'kau', '##r', 'and', 'the', 'defence', 'version', 'is', 'that', 'the', 'appellant', 'and', 'his', 'brothers', 'had', 'been', 'invited', 'to', 'the', 'marriage', 'of', 'tej', 'kau', '##r', 'by', 'ms', '##t', '.', 'dal', '##i', '##p', 'kau', '##r', '.', 'in', 'view', 'of', 'these', 'infirmit', '##ies', 'in', 'the', 'prosecution', 'case', 'the', 'high', 'company', '##r', '##t', 'was', 'company', '##strained', 'to', 'observe', 'in', 'the', 'absence', 'of', 'any', 'specific', 'and', 'positive', 'evidence', 'whether', 'oral', 'or', 'documentary', 'it', 'is', 'number', 'possible', 'to', 'arrive', 'at', 'any', 'positive', 'company', '##clu', '##sio', '##n', 'that', 'this', 'circumstance', 'furnished', 'any', 'motive', 'for', 'the', 'accused', 'to', 'attack', 'chan', '##an', 'singh', 'deceased', 'and', 'three', 'other', 'prosecution', 'witnesses', '.', 'after', 'a', 'careful', 'peru', '##s', '##al', 'of', 'the', 'entire', 'prosecution', 'evidence', 'it', 'appears', 'more', 'probable', 'that', 'the', 'accused', 'had', 'also', 'joined', 'in', 'the', 'marriage', 'as', 'the', 'collateral', '##s', 'but', 'something', 'happened', 'on', 'the', 'spur', 'of', 'the', 'moment', 'which', 'resulted', 'in', 'the', 'infliction', 'of', 'injury', 'by', 'jag', '##rup', 'singh', 'on', 'the', 'person', 'of', 'chan', '##an', 'singh', 'which', 'resulted', 'into', 'his', 'death', '.', 'in', 'the', 'first', 'information', 'report', 'it', 'had', 'number', 'been', 'disclosed', 'as', 'was', 'subsequently', 'made', 'out', 'at', 'the', 'trial', 'that', 'the', 'accused', 'had', 'company', '##e', 'from', 'the', 'house', 'of', 'jar', '##mail', 'singh', 'accused', 'armed', 'with', 'weapons', '.', 'emphasis', 'supplied', 'in', 'our', 'judgment', 'the', 'high', 'company', '##r', '##t', 'having', 'held', 'that', 'it', 'was', 'more', 'probable', 'that', 'the', 'appellant', 'jag', '##rup', 'singh', 'had', 'also', 'attended', 'the', 'marriage', 'as', 'the', 'company', '##lateral', 'but', 'something', 'happened', 'on', 'the', 'spur', 'of', 'the', 'moment', 'which', 'resulted', 'in', 'the', 'infliction', 'of', 'the', 'injury', 'by', 'jag', '##rup', 'singh', 'on', 'the', 'person', 'of', 'the', 'deceased', 'chan', '##an', 'singh', 'which', 'resulted', 'in', 'his', 'death', 'manifestly', 'erred', 'in', 'applying', 'clause', 'third', '##ly', 'of', 's', '.', '300', 'of', 'the', 'company', '##e', '.', 'on', 'the', 'finding', 'that', 'the', 'appellant', 'when', 'he', 'struck', 'the', 'deceased', 'with', 'the', 'blunt', 'side', 'of', 'the', 'gan', '##d', '##hala', 'in', 'the', 'heat', 'of', 'the', 'moment', 'without', 'pre', '-', 'medi', '##tati', '##on', 'and', 'in', 'a', 'sudden', 'fight', 'the', 'case', 'was', 'company', '##ere', '##d', 'by', 'exception', '4', 'to', 's', '.', '300', '.', 'it', 'is', 'number', 'suggested', 'that', 'the', 'appellant', 'had', 'taken', 'undu', '##e', 'advantage', 'of', 'the', 'situation', 'or', 'had', 'acted', 'in', 'a', 'cruel', 'or', 'unusual', 'manner', '.', 'thus', 'all', 'the', 'requirements', 'of', 'exception', '4', 'are', 'clearly', 'met', '.', '[SEP]']\n",
            "['[CLS]', 'the', 'gan', '##d', '##hala', 'on', 'the', 'head', 'in', 'the', 'heat', 'of', 'the', 'moment', '.', 'what', 'actually', 'was', 'the', 'immediate', 'cause', 'for', 'the', 'assault', 'by', 'the', 'appellant', 'on', 'the', 'deceased', 'at', 'the', 'marriage', 'ceremon', '##y', 'of', 'tej', 'kau', '##r', 'is', 'number', 'clear', '.', 'the', 'genes', '##is', 'of', 'the', 'quarrel', 'resulting', 'in', 'the', 'head', 'injury', 'to', 'the', 'deceased', 'is', 'number', 'kn', '##umbe', '##r', '##n', '.', 'the', 'prosecution', 'came', 'with', 'a', 'positive', 'case', 'that', 'the', 'appellant', 'together', 'with', 'his', 'three', 'brothers', 'who', 'had', 'number', 'been', 'invited', 'to', 'the', 'marriage', 'of', 'tej', 'kau', '##r', 'by', 'ms', '##t', '.', 'dal', '##i', '##p', 'kau', '##r', 'at', 'the', 'instigation', 'of', 'deceased', 'chan', '##an', 'singh', 'came', 'armed', 'with', 'different', 'weapons', 'to', 'teach', 'the', 'deceased', 'a', 'lesson', '.', 'but', 'the', 'prosecution', 'has', 'failed', 'to', 'examine', 'ms', '##t', '.', 'dal', '##i', '##p', 'kau', '##r', 'and', 'the', 'defence', 'version', 'is', 'that', 'the', 'appellant', 'and', 'his', 'brothers', 'had', 'been', 'invited', 'to', 'the', 'marriage', 'of', 'tej', 'kau', '##r', 'by', 'ms', '##t', '.', 'dal', '##i', '##p', 'kau', '##r', '.', 'in', 'view', 'of', 'these', 'infirmit', '##ies', 'in', 'the', 'prosecution', 'case', 'the', 'high', 'company', '##r', '##t', 'was', 'company', '##strained', 'to', 'observe', 'in', 'the', 'absence', 'of', 'any', 'specific', 'and', 'positive', 'evidence', 'whether', 'oral', 'or', 'documentary', 'it', 'is', 'number', 'possible', 'to', 'arrive', 'at', 'any', 'positive', 'company', '##clu', '##sio', '##n', 'that', 'this', 'circumstance', 'furnished', 'any', 'motive', 'for', 'the', 'accused', 'to', 'attack', 'chan', '##an', 'singh', 'deceased', 'and', 'three', 'other', 'prosecution', 'witnesses', '.', 'after', 'a', 'careful', 'peru', '##s', '##al', 'of', 'the', 'entire', 'prosecution', 'evidence', 'it', 'appears', 'more', 'probable', 'that', 'the', 'accused', 'had', 'also', 'joined', 'in', 'the', 'marriage', 'as', 'the', 'collateral', '##s', 'but', 'something', 'happened', 'on', 'the', 'spur', 'of', 'the', 'moment', 'which', 'resulted', 'in', 'the', 'infliction', 'of', 'injury', 'by', 'jag', '##rup', 'singh', 'on', 'the', 'person', 'of', 'chan', '##an', 'singh', 'which', 'resulted', 'into', 'his', 'death', '.', 'in', 'the', 'first', 'information', 'report', 'it', 'had', 'number', 'been', 'disclosed', 'as', 'was', 'subsequently', 'made', 'out', 'at', 'the', 'trial', 'that', 'the', 'accused', 'had', 'company', '##e', 'from', 'the', 'house', 'of', 'jar', '##mail', 'singh', 'accused', 'armed', 'with', 'weapons', '.', 'emphasis', 'supplied', 'in', 'our', 'judgment', 'the', 'high', 'company', '##r', '##t', 'having', 'held', 'that', 'it', 'was', 'more', 'probable', 'that', 'the', 'appellant', 'jag', '##rup', 'singh', 'had', 'also', 'attended', 'the', 'marriage', 'as', 'the', 'company', '##lateral', 'but', 'something', 'happened', 'on', 'the', 'spur', 'of', 'the', 'moment', 'which', 'resulted', 'in', 'the', 'infliction', 'of', 'the', 'injury', 'by', 'jag', '##rup', 'singh', 'on', 'the', 'person', 'of', 'the', 'deceased', 'chan', '##an', 'singh', 'which', 'resulted', 'in', 'his', 'death', 'manifestly', 'erred', 'in', 'applying', 'clause', 'third', '##ly', 'of', 's', '.', '300', 'of', 'the', 'company', '##e', '.', 'on', 'the', 'finding', 'that', 'the', 'appellant', 'when', 'he', 'struck', 'the', 'deceased', 'with', 'the', 'blunt', 'side', 'of', 'the', 'gan', '##d', '##hala', 'in', 'the', 'heat', 'of', 'the', 'moment', 'without', 'pre', '-', 'medi', '##tati', '##on', 'and', 'in', 'a', 'sudden', 'fight', 'the', 'case', 'was', 'company', '##ere', '##d', 'by', 'exception', '4', 'to', 's', '.', '300', '.', 'it', 'is', 'number', 'suggested', 'that', 'the', 'appellant', 'had', 'taken', 'undu', '##e', 'advantage', 'of', 'the', 'situation', 'or', 'had', 'acted', 'in', 'a', 'cruel', 'or', 'unusual', 'manner', '.', 'thus', 'all', 'the', 'requirements', 'of', 'exception', '4', 'are', 'clearly', 'met', '.', 'evidence', 'expert', 'witness', 'physical', 'assault', 'riot', 'life', 'imprisonment', 'witness', 'homicide', 'murder', '[SEP]']\n"
          ]
        }
      ]
    },
    {
      "cell_type": "code",
      "source": [
        "import numpy as np\n",
        "tr=np.load(\"/content/drive/MyDrive/experiment/legaltraining.npy\",allow_pickle=True)"
      ],
      "metadata": {
        "id": "sw2fiszkfjqg"
      },
      "execution_count": null,
      "outputs": []
    },
    {
      "cell_type": "code",
      "source": [
        "def Listing(a):\n",
        "  l=[]\n",
        "  for i in a:\n",
        "    x=i.tolist()\n",
        "    l.append(x)\n",
        "  return l"
      ],
      "metadata": {
        "id": "z8Qjew1zhQxj"
      },
      "execution_count": null,
      "outputs": []
    },
    {
      "cell_type": "code",
      "source": [
        "def padding_zeros(a):\n",
        "  for i in a:\n",
        "    i.extend([0]*(768))"
      ],
      "metadata": {
        "id": "IwQtx7PshSFr"
      },
      "execution_count": null,
      "outputs": []
    },
    {
      "cell_type": "code",
      "source": [
        "train=Listing(tr)\n",
        "padding_zeros(train)\n",
        "trn=np.array(train)\n",
        "tst=np.array(lst1)\n",
        "print(len(tst[0]))"
      ],
      "metadata": {
        "colab": {
          "base_uri": "https://localhost:8080/"
        },
        "id": "bgb2xeABhwz4",
        "outputId": "e241e83e-334e-4ab0-8adb-5561d7fca244"
      },
      "execution_count": null,
      "outputs": [
        {
          "output_type": "stream",
          "name": "stdout",
          "text": [
            "768\n"
          ]
        }
      ]
    },
    {
      "cell_type": "code",
      "source": [
        "trlabel = train_set['label'].to_numpy().astype('int')\n",
        "tst1=np.array(lst2)\n",
        "tst2=np.array(lst3)"
      ],
      "metadata": {
        "id": "LgYEHfz4jXUD"
      },
      "execution_count": null,
      "outputs": []
    },
    {
      "cell_type": "code",
      "source": [
        "from sklearn.linear_model import LogisticRegression\n",
        "from sklearn.metrics import accuracy_score\n",
        "clf = LogisticRegression()\n",
        "clf.fit(tr,trlabel)\n",
        "t_label=clf.predict(tst2)\n",
        "t1_label=clf.predict(tst)\n",
        "acc=accuracy_score(tst1,t1_label)\n",
        "acc1=accuracy_score(tst1,t_label)\n",
        "print(acc,acc1)"
      ],
      "metadata": {
        "colab": {
          "base_uri": "https://localhost:8080/"
        },
        "id": "F0JAMoEBk1gI",
        "outputId": "d4904e4d-b94a-4199-8cdf-f3588d138db2"
      },
      "execution_count": null,
      "outputs": [
        {
          "output_type": "stream",
          "name": "stdout",
          "text": [
            "0.5957446808510638 0.5851063829787234\n"
          ]
        },
        {
          "output_type": "stream",
          "name": "stderr",
          "text": [
            "/usr/local/lib/python3.10/dist-packages/sklearn/linear_model/_logistic.py:458: ConvergenceWarning: lbfgs failed to converge (status=1):\n",
            "STOP: TOTAL NO. of ITERATIONS REACHED LIMIT.\n",
            "\n",
            "Increase the number of iterations (max_iter) or scale the data as shown in:\n",
            "    https://scikit-learn.org/stable/modules/preprocessing.html\n",
            "Please also refer to the documentation for alternative solver options:\n",
            "    https://scikit-learn.org/stable/modules/linear_model.html#logistic-regression\n",
            "  n_iter_i = _check_optimize_result(\n"
          ]
        }
      ]
    },
    {
      "cell_type": "code",
      "source": [
        "from sklearn.svm import SVC\n",
        "from sklearn.metrics import accuracy_score\n",
        "clf=SVC(kernel=\"linear\")\n",
        "clf.fit(tr,trlabel)\n",
        "t_label=clf.predict(tst)\n",
        "t1_label=clf.predict(tst2)\n",
        "acc=accuracy_score(tst1,t_label)\n",
        "acc1=accuracy_score(tst1,t1_label)\n",
        "print(acc,acc1)"
      ],
      "metadata": {
        "colab": {
          "base_uri": "https://localhost:8080/"
        },
        "id": "9ev-kY6cx0Ks",
        "outputId": "4a0ea52c-2ed5-4393-f0ce-ce80cc6fc8d3"
      },
      "execution_count": null,
      "outputs": [
        {
          "output_type": "stream",
          "name": "stdout",
          "text": [
            "0.5638297872340425 0.574468085106383\n"
          ]
        }
      ]
    },
    {
      "cell_type": "code",
      "source": [
        "import json\n",
        "import pandas as pd\n",
        "tg=open(\"/content/tag_600_docs.txt\",'r')\n",
        "dff=tg.read()\n",
        "lt=[]\n",
        "dff=eval(dff)\n",
        "lst=list(dff.keys())\n",
        "for i in dff:\n",
        "  s=''\n",
        "  for j in dff[i]:\n",
        "    s+=' '+j\n",
        "  lt.append(s)\n",
        "df=pd.read_csv(\"test3.csv\")\n",
        "l=df[\"name\"].tolist()\n",
        "l1=[]\n",
        "for i in l:\n",
        "  path=str(i)+\".txt\"\n",
        "  if path in lst:\n",
        "    st=df.iloc[l.index(i)][\"text\"]+lt[lst.index(path)]\n",
        "    l1.append(st)\n",
        "df.insert(1,\"appended_text\",l1,True)\n",
        "df.to_csv(\"append_test_3.csv\",index=False)"
      ],
      "metadata": {
        "id": "32m0xD25rCb2"
      },
      "execution_count": null,
      "outputs": []
    }
  ]
}